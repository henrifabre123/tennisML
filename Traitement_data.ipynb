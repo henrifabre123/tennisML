{
 "cells": [
  {
   "cell_type": "code",
   "execution_count": 2,
   "id": "a4d135ee",
   "metadata": {},
   "outputs": [],
   "source": [
    "import pandas as pd \n",
    "import matplotlib.pyplot as plt\n"
   ]
  },
  {
   "cell_type": "markdown",
   "id": "8721bcbe",
   "metadata": {},
   "source": [
    "# Création du Dataset Info_rank"
   ]
  },
  {
   "cell_type": "code",
   "execution_count": 2,
   "id": "2a8d0135",
   "metadata": {},
   "outputs": [],
   "source": [
    "df_infos_rang_joueurs = pd.read_csv('./Data/Data_utiles/info_rank')"
   ]
  },
  {
   "cell_type": "code",
   "execution_count": 3,
   "id": "c4f9d53a",
   "metadata": {},
   "outputs": [
    {
     "data": {
      "text/html": [
       "<div>\n",
       "<style scoped>\n",
       "    .dataframe tbody tr th:only-of-type {\n",
       "        vertical-align: middle;\n",
       "    }\n",
       "\n",
       "    .dataframe tbody tr th {\n",
       "        vertical-align: top;\n",
       "    }\n",
       "\n",
       "    .dataframe thead th {\n",
       "        text-align: right;\n",
       "    }\n",
       "</style>\n",
       "<table border=\"1\" class=\"dataframe\">\n",
       "  <thead>\n",
       "    <tr style=\"text-align: right;\">\n",
       "      <th></th>\n",
       "      <th>Unnamed: 0</th>\n",
       "      <th>ranking_date</th>\n",
       "      <th>rank</th>\n",
       "      <th>player_id</th>\n",
       "      <th>points</th>\n",
       "      <th>name_first</th>\n",
       "      <th>name_last</th>\n",
       "      <th>hand</th>\n",
       "      <th>dob</th>\n",
       "      <th>ioc</th>\n",
       "      <th>height</th>\n",
       "      <th>wikidata_id</th>\n",
       "    </tr>\n",
       "  </thead>\n",
       "  <tbody>\n",
       "    <tr>\n",
       "      <th>0</th>\n",
       "      <td>134199</td>\n",
       "      <td>19900101</td>\n",
       "      <td>1</td>\n",
       "      <td>100656</td>\n",
       "      <td>2913.0</td>\n",
       "      <td>Ivan</td>\n",
       "      <td>Lendl</td>\n",
       "      <td>R</td>\n",
       "      <td>19600307.0</td>\n",
       "      <td>USA</td>\n",
       "      <td>188.0</td>\n",
       "      <td>Q182736</td>\n",
       "    </tr>\n",
       "    <tr>\n",
       "      <th>1</th>\n",
       "      <td>134465</td>\n",
       "      <td>19900101</td>\n",
       "      <td>2</td>\n",
       "      <td>101414</td>\n",
       "      <td>2279.0</td>\n",
       "      <td>Boris</td>\n",
       "      <td>Becker</td>\n",
       "      <td>R</td>\n",
       "      <td>19671122.0</td>\n",
       "      <td>GER</td>\n",
       "      <td>190.0</td>\n",
       "      <td>Q76334</td>\n",
       "    </tr>\n",
       "    <tr>\n",
       "      <th>2</th>\n",
       "      <td>134961</td>\n",
       "      <td>19900101</td>\n",
       "      <td>3</td>\n",
       "      <td>101222</td>\n",
       "      <td>2111.0</td>\n",
       "      <td>Stefan</td>\n",
       "      <td>Edberg</td>\n",
       "      <td>R</td>\n",
       "      <td>19660119.0</td>\n",
       "      <td>SWE</td>\n",
       "      <td>188.0</td>\n",
       "      <td>Q189542</td>\n",
       "    </tr>\n",
       "    <tr>\n",
       "      <th>3</th>\n",
       "      <td>135361</td>\n",
       "      <td>19900101</td>\n",
       "      <td>4</td>\n",
       "      <td>100763</td>\n",
       "      <td>1398.0</td>\n",
       "      <td>Brad</td>\n",
       "      <td>Gilbert</td>\n",
       "      <td>R</td>\n",
       "      <td>19610809.0</td>\n",
       "      <td>USA</td>\n",
       "      <td>185.0</td>\n",
       "      <td>Q715134</td>\n",
       "    </tr>\n",
       "    <tr>\n",
       "      <th>4</th>\n",
       "      <td>135627</td>\n",
       "      <td>19900101</td>\n",
       "      <td>5</td>\n",
       "      <td>100581</td>\n",
       "      <td>1354.0</td>\n",
       "      <td>John</td>\n",
       "      <td>McEnroe</td>\n",
       "      <td>L</td>\n",
       "      <td>19590216.0</td>\n",
       "      <td>USA</td>\n",
       "      <td>180.0</td>\n",
       "      <td>Q16474</td>\n",
       "    </tr>\n",
       "  </tbody>\n",
       "</table>\n",
       "</div>"
      ],
      "text/plain": [
       "   Unnamed: 0  ranking_date  rank  player_id  points name_first name_last  \\\n",
       "0      134199      19900101     1     100656  2913.0       Ivan     Lendl   \n",
       "1      134465      19900101     2     101414  2279.0      Boris    Becker   \n",
       "2      134961      19900101     3     101222  2111.0     Stefan    Edberg   \n",
       "3      135361      19900101     4     100763  1398.0       Brad   Gilbert   \n",
       "4      135627      19900101     5     100581  1354.0       John   McEnroe   \n",
       "\n",
       "  hand         dob  ioc  height wikidata_id  \n",
       "0    R  19600307.0  USA   188.0     Q182736  \n",
       "1    R  19671122.0  GER   190.0      Q76334  \n",
       "2    R  19660119.0  SWE   188.0     Q189542  \n",
       "3    R  19610809.0  USA   185.0     Q715134  \n",
       "4    L  19590216.0  USA   180.0      Q16474  "
      ]
     },
     "execution_count": 3,
     "metadata": {},
     "output_type": "execute_result"
    }
   ],
   "source": [
    "df_infos_rang_joueurs.head()\n"
   ]
  },
  {
   "cell_type": "code",
   "execution_count": 16,
   "id": "90488fb9",
   "metadata": {},
   "outputs": [
    {
     "data": {
      "text/plain": [
       "(162982, 12)"
      ]
     },
     "execution_count": 16,
     "metadata": {},
     "output_type": "execute_result"
    }
   ],
   "source": [
    "df_infos_rang_joueurs.shape"
   ]
  },
  {
   "cell_type": "markdown",
   "id": "5d69b340",
   "metadata": {},
   "source": [
    "On voit que ce dataset est composé de $12$ colonnes et $162982$ lignes, ce qui est assez conséquent. \n",
    "\n",
    "Le but de notre projet étant de définir des caractéristiques qui distinguent un joueur du top 10 d'un autre du top 50, nous pouvons d'ors et déjà supprimer certaines colonnes qui ne nous seront pas utiles telles que:\n",
    "\n",
    "- IOC vu que le pays d'origine du joueur n'a aucun impact sur ses performances\n",
    "- wikidata_id\n",
    "- dob\n",
    "- Unnamed :0 (qui est un duplicat des indexes)"
   ]
  },
  {
   "cell_type": "code",
   "execution_count": 4,
   "id": "f9835686",
   "metadata": {},
   "outputs": [],
   "source": [
    "df_infos_rang_joueurs.drop(['Unnamed: 0', 'ioc', 'wikidata_id','dob'],axis=1,inplace=True)\n",
    "\n"
   ]
  },
  {
   "cell_type": "code",
   "execution_count": 5,
   "id": "0744bed6",
   "metadata": {},
   "outputs": [
    {
     "data": {
      "text/html": [
       "<div>\n",
       "<style scoped>\n",
       "    .dataframe tbody tr th:only-of-type {\n",
       "        vertical-align: middle;\n",
       "    }\n",
       "\n",
       "    .dataframe tbody tr th {\n",
       "        vertical-align: top;\n",
       "    }\n",
       "\n",
       "    .dataframe thead th {\n",
       "        text-align: right;\n",
       "    }\n",
       "</style>\n",
       "<table border=\"1\" class=\"dataframe\">\n",
       "  <thead>\n",
       "    <tr style=\"text-align: right;\">\n",
       "      <th></th>\n",
       "      <th>ranking_date</th>\n",
       "      <th>rank</th>\n",
       "      <th>player_id</th>\n",
       "      <th>points</th>\n",
       "      <th>name_first</th>\n",
       "      <th>name_last</th>\n",
       "      <th>hand</th>\n",
       "      <th>height</th>\n",
       "    </tr>\n",
       "  </thead>\n",
       "  <tbody>\n",
       "    <tr>\n",
       "      <th>0</th>\n",
       "      <td>19900101</td>\n",
       "      <td>1</td>\n",
       "      <td>100656</td>\n",
       "      <td>2913.0</td>\n",
       "      <td>Ivan</td>\n",
       "      <td>Lendl</td>\n",
       "      <td>R</td>\n",
       "      <td>188.0</td>\n",
       "    </tr>\n",
       "    <tr>\n",
       "      <th>1</th>\n",
       "      <td>19900101</td>\n",
       "      <td>2</td>\n",
       "      <td>101414</td>\n",
       "      <td>2279.0</td>\n",
       "      <td>Boris</td>\n",
       "      <td>Becker</td>\n",
       "      <td>R</td>\n",
       "      <td>190.0</td>\n",
       "    </tr>\n",
       "    <tr>\n",
       "      <th>2</th>\n",
       "      <td>19900101</td>\n",
       "      <td>3</td>\n",
       "      <td>101222</td>\n",
       "      <td>2111.0</td>\n",
       "      <td>Stefan</td>\n",
       "      <td>Edberg</td>\n",
       "      <td>R</td>\n",
       "      <td>188.0</td>\n",
       "    </tr>\n",
       "    <tr>\n",
       "      <th>3</th>\n",
       "      <td>19900101</td>\n",
       "      <td>4</td>\n",
       "      <td>100763</td>\n",
       "      <td>1398.0</td>\n",
       "      <td>Brad</td>\n",
       "      <td>Gilbert</td>\n",
       "      <td>R</td>\n",
       "      <td>185.0</td>\n",
       "    </tr>\n",
       "    <tr>\n",
       "      <th>4</th>\n",
       "      <td>19900101</td>\n",
       "      <td>5</td>\n",
       "      <td>100581</td>\n",
       "      <td>1354.0</td>\n",
       "      <td>John</td>\n",
       "      <td>McEnroe</td>\n",
       "      <td>L</td>\n",
       "      <td>180.0</td>\n",
       "    </tr>\n",
       "  </tbody>\n",
       "</table>\n",
       "</div>"
      ],
      "text/plain": [
       "   ranking_date  rank  player_id  points name_first name_last hand  height\n",
       "0      19900101     1     100656  2913.0       Ivan     Lendl    R   188.0\n",
       "1      19900101     2     101414  2279.0      Boris    Becker    R   190.0\n",
       "2      19900101     3     101222  2111.0     Stefan    Edberg    R   188.0\n",
       "3      19900101     4     100763  1398.0       Brad   Gilbert    R   185.0\n",
       "4      19900101     5     100581  1354.0       John   McEnroe    L   180.0"
      ]
     },
     "execution_count": 5,
     "metadata": {},
     "output_type": "execute_result"
    }
   ],
   "source": [
    "df_infos_rang_joueurs.head()"
   ]
  },
  {
   "cell_type": "code",
   "execution_count": 6,
   "id": "443bba3b",
   "metadata": {},
   "outputs": [],
   "source": [
    "df_infos_rang_joueurs.to_csv('./Data/Data_utiles/info_rank_after_treatment')"
   ]
  },
  {
   "cell_type": "markdown",
   "id": "299d49df",
   "metadata": {},
   "source": [
    "# Création du Dataset Info_match\n",
    "\n",
    "Ce dataset va regrouper tous les matchs joués par les joueurs du top 100. On aura accès aux informations suivantes:\n",
    "\n",
    "- Vainqueur / Perdant\n",
    "- Rang du vainqueur / Rang du perdant\n",
    "- surface du match\n",
    "- tournois"
   ]
  },
  {
   "cell_type": "code",
   "execution_count": 8,
   "id": "49c6e5ef",
   "metadata": {},
   "outputs": [],
   "source": [
    "liste_concat=[]\n",
    "\n",
    "for year in range(1993,2022):\n",
    "    df_matches_annee=pd.read_csv('./Data/atp_matches_{}.csv'.format(year))\n",
    "\n",
    "    #On garde seulement les matches des joueurs du top 100\n",
    "\n",
    "    df_matches=df_matches_annee[(df_matches_annee['winner_rank']<=100) | (df_matches_annee['loser_rank']<=100)].copy()\n",
    "    \n",
    "    liste_concat.append(df_matches)\n",
    "\n",
    "info_matches=pd.concat(liste_concat)\n",
    "colonnes_a_supprimer = ['winner_ioc', 'winner_entry', 'winner_seed', 'draw_size','loser_ioc', 'loser_entry', 'loser_seed']\n",
    "info_matches=info_matches.drop(colonnes_a_supprimer,axis=1)"
   ]
  },
  {
   "cell_type": "code",
   "execution_count": 9,
   "id": "b5a576ed",
   "metadata": {},
   "outputs": [
    {
     "name": "stdout",
     "output_type": "stream",
     "text": [
      "(80978, 42)\n",
      "Index(['tourney_id', 'tourney_name', 'surface', 'tourney_level',\n",
      "       'tourney_date', 'match_num', 'winner_id', 'winner_name', 'winner_hand',\n",
      "       'winner_ht', 'winner_age', 'loser_id', 'loser_name', 'loser_hand',\n",
      "       'loser_ht', 'loser_age', 'score', 'best_of', 'round', 'minutes',\n",
      "       'w_ace', 'w_df', 'w_svpt', 'w_1stIn', 'w_1stWon', 'w_2ndWon', 'w_SvGms',\n",
      "       'w_bpSaved', 'w_bpFaced', 'l_ace', 'l_df', 'l_svpt', 'l_1stIn',\n",
      "       'l_1stWon', 'l_2ndWon', 'l_SvGms', 'l_bpSaved', 'l_bpFaced',\n",
      "       'winner_rank', 'winner_rank_points', 'loser_rank', 'loser_rank_points'],\n",
      "      dtype='object')\n"
     ]
    }
   ],
   "source": [
    "print(info_matches.shape)\n",
    "print(info_matches.columns)"
   ]
  },
  {
   "cell_type": "code",
   "execution_count": 15,
   "id": "3f188153",
   "metadata": {},
   "outputs": [],
   "source": [
    "info_matches.to_csv('./Data/Data_utiles/info_matches.csv')"
   ]
  },
  {
   "cell_type": "markdown",
   "id": "1da17f79",
   "metadata": {},
   "source": [
    "### Fonction pour calculer le winrate d'un joueur sur une année"
   ]
  },
  {
   "cell_type": "code",
   "execution_count": 11,
   "id": "c2d46907",
   "metadata": {},
   "outputs": [],
   "source": [
    "def winrate(year,_id,dataset):\n",
    "    \n",
    "    df_year = dataset[(dataset['tourney_date'] >= year * 10000) & (dataset['tourney_date'] < (year + 1) * 10000)].copy()\n",
    "\n",
    "    nombre_matches_gagnes=0\n",
    "    nombre_matches_joues=0\n",
    "    for index, row in df_year.iterrows():\n",
    "        \n",
    "        if row['winner_id']==_id :\n",
    "            nombre_matches_gagnes+=1\n",
    "            nombre_matches_joues+=1\n",
    "            \n",
    "        elif row['loser_id']==_id:\n",
    "            nombre_matches_joues+=1\n",
    "    \n",
    "    winrate=(nombre_matches_gagnes/nombre_matches_joues)\n",
    "    \n",
    "    return winrate,nombre_matches_gagnes,nombre_matches_joues\n"
   ]
  },
  {
   "cell_type": "code",
   "execution_count": 13,
   "id": "9709c75f",
   "metadata": {},
   "outputs": [
    {
     "name": "stdout",
     "output_type": "stream",
     "text": [
      "(0.8415841584158416, 85, 101)\n"
     ]
    }
   ],
   "source": [
    "print(winrate(1993,101948,info_matches))"
   ]
  },
  {
   "cell_type": "markdown",
   "id": "db0eb426",
   "metadata": {},
   "source": [
    "# Création du dataset Info_joueurs"
   ]
  },
  {
   "cell_type": "code",
   "execution_count": 3,
   "id": "70b98c55",
   "metadata": {},
   "outputs": [],
   "source": [
    "info_matches1=pd.read_csv('./Data/Data_utiles/info_matches.csv')\n",
    "columns_needed = ['l_1stIn', 'l_svpt', 'l_1stWon', 'l_2ndWon', 'w_svpt', 'w_1stWon', 'w_2ndWon','tourney_date', 'loser_rank', 'winner_rank','loser_rank','w_bpFaced','l_bpFaced','l_bpSaved','w_bpSaved','l_SvGms','w_SvGms']\n",
    "\n",
    "# Filtrer le DataFrame pour exclure les lignes avec des NaN dans les colonnes spécifiées\n",
    "info_matches=info_matches1.dropna(subset=columns_needed)"
   ]
  },
  {
   "cell_type": "code",
   "execution_count": null,
   "id": "8c590a70",
   "metadata": {},
   "outputs": [],
   "source": [
    "#On crée un dictionnaire qui référencie tous les joueurs\n",
    "\n",
    "joueurs_dict = {}\n",
    "\n",
    "\n",
    "for index, row in info_matches.iterrows():\n",
    "    winner_id = row['winner_id']\n",
    "    loser_id = row['loser_id']\n",
    "\n",
    "    if (row['winner_rank']<=100) and (winner_id not in joueurs_dict):\n",
    "        joueurs_dict[winner_id] = {'name': row['winner_name'], 'hand': row['winner_hand'], 'height': row['winner_ht']}\n",
    "        for year in range(1993, 2023):  \n",
    "            joueurs_dict[winner_id][str(year)] = []\n",
    "\n",
    "    if (row['loser_rank']<=100) and (loser_id not in joueurs_dict):\n",
    "        joueurs_dict[loser_id] = {'name': row['loser_name'], 'hand': row['loser_hand'], 'height': row['loser_ht']}\n",
    "        for year in range(1993, 2023):  \n",
    "            joueurs_dict[loser_id][str(year)] = []"
   ]
  },
  {
   "cell_type": "code",
   "execution_count": null,
   "id": "5def604f",
   "metadata": {},
   "outputs": [],
   "source": [
    "def calculate_percentage(value, total):\n",
    "    return value / total if total != 0 else 0\n",
    "\n",
    "def process_match(row, player_id, stats):\n",
    "    stats['matchs'] += 1\n",
    "    stats['win'] += 1\n",
    "    stats['pourc_serv_in'] += calculate_percentage(int(row['w_1stIn']), int(row['w_svpt']))\n",
    "    stats['pourc_serv_win_pnt'] += calculate_percentage(int(row['w_1stWon']) + int(row['w_2ndWon']), int(row['w_svpt']))\n",
    "    stats['pourc_return_win_pnt'] += calculate_percentage(int(row['l_svpt']) - int(row['l_1stWon']) - int(row['l_2ndWon']), int(row['l_svpt']))\n",
    "    stats['pourc_serv_games_win'] += calculate_percentage(int(row['w_SvGms']) - (int(row['w_bpFaced']) - int(row['w_bpSaved'])), int(row['w_SvGms']))\n",
    "    stats['pourc_break_games'] += 1 - calculate_percentage(int(row['l_SvGms']) - (int(row['l_bpFaced']) - int(row['l_bpSaved'])), int(row['l_SvGms']))\n",
    "    stats['mean_ranking_oppo'] += int(row['loser_rank'])\n",
    "\n",
    "def update_stats_for_player(player_id, stats, year):\n",
    "    if stats['matchs'] > 0:\n",
    "        for key in ['pourc_serv_in', 'pourc_serv_win_pnt', 'pourc_return_win_pnt', 'pourc_serv_games_win', 'pourc_break_games']:\n",
    "            stats[key] = calculate_percentage(stats[key], stats['matchs'])\n",
    "\n",
    "        for key in ['pourc_break_point_saved', 'pourc_break_point_made', 'mean_ranking_oppo']:\n",
    "            stats[key] = calculate_percentage(stats[key], stats['matchs'])\n",
    "\n",
    "        joueurs_dict[player_id][str(year)] = [stats['matchs'], stats['win'], stats['pourc_return_win_pnt'],\n",
    "                                              stats['pourc_return_win_pnt'], stats['pourc_break_games'],\n",
    "                                              stats['pourc_break_point_made'], stats['pourc_break_point_saved'],\n",
    "                                              stats['pourc_serv_games_win'], stats['pourc_serv_in']]\n",
    "\n",
    "\n",
    "\n",
    "for year in range(1993,2021):\n",
    "    for joueur in joueurs_dict.keys():\n",
    "        \n",
    "        stats = {\n",
    "            'matchs': 0,\n",
    "            'win': 0,\n",
    "            'pourc_serv_win_pnt': 0,\n",
    "            'pourc_return_win_pnt': 0,\n",
    "            'pourc_serv_in': 0,\n",
    "            'pourc_break_games': 0,\n",
    "            'pourc_serv_games_win': 0,\n",
    "            'pourc_break_point_saved': 0,\n",
    "            'pourc_break_point_made': 0,\n",
    "            'mean_ranking_oppo': 0\n",
    "        }\n",
    "        df_year = info_matches[(info_matches['tourney_date'] >= year * 10000) & (info_matches['tourney_date'] < (year + 1) * 10000)].copy()\n",
    "\n",
    "        for i in range(len(df_year)):\n",
    "            winner_id = df_year['winner_id'].iloc[i]\n",
    "            loser_id = df_year['loser_id'].iloc[i]\n",
    "\n",
    "            if winner_id == joueur :\n",
    "                process_match(df_year.iloc[i], joueur, stats)\n",
    "\n",
    "            elif loser_id == joueur :\n",
    "                process_match(df_year.iloc[i], joueur, stats)\n",
    "\n",
    "\n",
    "        update_stats_for_player(joueur, stats, year)\n"
   ]
  },
  {
   "cell_type": "code",
   "execution_count": null,
   "id": "c1b8c61f",
   "metadata": {},
   "outputs": [],
   "source": [
    "df_info_joueurs=pd.DataFrame(joueurs_dict)\n",
    "df_info_joueurs=df_info_joueurs.transpose()\n",
    "\n",
    "df_info_joueurs.to_csv('./Data/Data_utiles/info_joueurs.csv')"
   ]
  }
 ],
 "metadata": {
  "kernelspec": {
   "display_name": "Python 3 (ipykernel)",
   "language": "python",
   "name": "python3"
  },
  "language_info": {
   "codemirror_mode": {
    "name": "ipython",
    "version": 3
   },
   "file_extension": ".py",
   "mimetype": "text/x-python",
   "name": "python",
   "nbconvert_exporter": "python",
   "pygments_lexer": "ipython3",
   "version": "3.9.13"
  }
 },
 "nbformat": 4,
 "nbformat_minor": 5
}
