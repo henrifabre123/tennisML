{
 "cells": [
  {
   "cell_type": "code",
   "execution_count": 2,
   "id": "a4d135ee",
   "metadata": {},
   "outputs": [],
   "source": [
    "import pandas as pd \n",
    "import matplotlib.pyplot as plt\n"
   ]
  },
  {
   "cell_type": "code",
   "execution_count": 14,
   "id": "2a8d0135",
   "metadata": {},
   "outputs": [],
   "source": [
    "df_infos_rang_joueurs = pd.read_csv('./Data/Data_utiles/info_rank')"
   ]
  },
  {
   "cell_type": "code",
   "execution_count": 15,
   "id": "c4f9d53a",
   "metadata": {},
   "outputs": [
    {
     "data": {
      "text/html": [
       "<div>\n",
       "<style scoped>\n",
       "    .dataframe tbody tr th:only-of-type {\n",
       "        vertical-align: middle;\n",
       "    }\n",
       "\n",
       "    .dataframe tbody tr th {\n",
       "        vertical-align: top;\n",
       "    }\n",
       "\n",
       "    .dataframe thead th {\n",
       "        text-align: right;\n",
       "    }\n",
       "</style>\n",
       "<table border=\"1\" class=\"dataframe\">\n",
       "  <thead>\n",
       "    <tr style=\"text-align: right;\">\n",
       "      <th></th>\n",
       "      <th>Unnamed: 0</th>\n",
       "      <th>ranking_date</th>\n",
       "      <th>rank</th>\n",
       "      <th>player_id</th>\n",
       "      <th>points</th>\n",
       "      <th>name_first</th>\n",
       "      <th>name_last</th>\n",
       "      <th>hand</th>\n",
       "      <th>dob</th>\n",
       "      <th>ioc</th>\n",
       "      <th>height</th>\n",
       "      <th>wikidata_id</th>\n",
       "    </tr>\n",
       "  </thead>\n",
       "  <tbody>\n",
       "    <tr>\n",
       "      <th>0</th>\n",
       "      <td>134199</td>\n",
       "      <td>19900101</td>\n",
       "      <td>1</td>\n",
       "      <td>100656</td>\n",
       "      <td>2913.0</td>\n",
       "      <td>Ivan</td>\n",
       "      <td>Lendl</td>\n",
       "      <td>R</td>\n",
       "      <td>19600307.0</td>\n",
       "      <td>USA</td>\n",
       "      <td>188.0</td>\n",
       "      <td>Q182736</td>\n",
       "    </tr>\n",
       "    <tr>\n",
       "      <th>1</th>\n",
       "      <td>134465</td>\n",
       "      <td>19900101</td>\n",
       "      <td>2</td>\n",
       "      <td>101414</td>\n",
       "      <td>2279.0</td>\n",
       "      <td>Boris</td>\n",
       "      <td>Becker</td>\n",
       "      <td>R</td>\n",
       "      <td>19671122.0</td>\n",
       "      <td>GER</td>\n",
       "      <td>190.0</td>\n",
       "      <td>Q76334</td>\n",
       "    </tr>\n",
       "    <tr>\n",
       "      <th>2</th>\n",
       "      <td>134961</td>\n",
       "      <td>19900101</td>\n",
       "      <td>3</td>\n",
       "      <td>101222</td>\n",
       "      <td>2111.0</td>\n",
       "      <td>Stefan</td>\n",
       "      <td>Edberg</td>\n",
       "      <td>R</td>\n",
       "      <td>19660119.0</td>\n",
       "      <td>SWE</td>\n",
       "      <td>188.0</td>\n",
       "      <td>Q189542</td>\n",
       "    </tr>\n",
       "    <tr>\n",
       "      <th>3</th>\n",
       "      <td>135361</td>\n",
       "      <td>19900101</td>\n",
       "      <td>4</td>\n",
       "      <td>100763</td>\n",
       "      <td>1398.0</td>\n",
       "      <td>Brad</td>\n",
       "      <td>Gilbert</td>\n",
       "      <td>R</td>\n",
       "      <td>19610809.0</td>\n",
       "      <td>USA</td>\n",
       "      <td>185.0</td>\n",
       "      <td>Q715134</td>\n",
       "    </tr>\n",
       "    <tr>\n",
       "      <th>4</th>\n",
       "      <td>135627</td>\n",
       "      <td>19900101</td>\n",
       "      <td>5</td>\n",
       "      <td>100581</td>\n",
       "      <td>1354.0</td>\n",
       "      <td>John</td>\n",
       "      <td>McEnroe</td>\n",
       "      <td>L</td>\n",
       "      <td>19590216.0</td>\n",
       "      <td>USA</td>\n",
       "      <td>180.0</td>\n",
       "      <td>Q16474</td>\n",
       "    </tr>\n",
       "  </tbody>\n",
       "</table>\n",
       "</div>"
      ],
      "text/plain": [
       "   Unnamed: 0  ranking_date  rank  player_id  points name_first name_last  \\\n",
       "0      134199      19900101     1     100656  2913.0       Ivan     Lendl   \n",
       "1      134465      19900101     2     101414  2279.0      Boris    Becker   \n",
       "2      134961      19900101     3     101222  2111.0     Stefan    Edberg   \n",
       "3      135361      19900101     4     100763  1398.0       Brad   Gilbert   \n",
       "4      135627      19900101     5     100581  1354.0       John   McEnroe   \n",
       "\n",
       "  hand         dob  ioc  height wikidata_id  \n",
       "0    R  19600307.0  USA   188.0     Q182736  \n",
       "1    R  19671122.0  GER   190.0      Q76334  \n",
       "2    R  19660119.0  SWE   188.0     Q189542  \n",
       "3    R  19610809.0  USA   185.0     Q715134  \n",
       "4    L  19590216.0  USA   180.0      Q16474  "
      ]
     },
     "execution_count": 15,
     "metadata": {},
     "output_type": "execute_result"
    }
   ],
   "source": [
    "df_infos_rang_joueurs.head()\n"
   ]
  },
  {
   "cell_type": "code",
   "execution_count": 16,
   "id": "90488fb9",
   "metadata": {},
   "outputs": [
    {
     "data": {
      "text/plain": [
       "(162982, 12)"
      ]
     },
     "execution_count": 16,
     "metadata": {},
     "output_type": "execute_result"
    }
   ],
   "source": [
    "df_infos_rang_joueurs.shape"
   ]
  },
  {
   "cell_type": "markdown",
   "id": "5d69b340",
   "metadata": {},
   "source": [
    "On voit que ce dataset est composé de $12$ colonnes et $162982$ lignes, ce qui est assez conséquent. \n",
    "\n",
    "Le but de notre projet étant de définir des caractéristiques qui distinguent un joueur du top 10 d'un autre du top 50, nous pouvons d'ors et déjà supprimer certaines colonnes qui ne nous seront pas utiles telles que:\n",
    "\n",
    "- IOC vu que le pays d'origine du joueur n'a aucun impact sur ses performances\n",
    "- wikidata_id\n",
    "- dob\n",
    "- Unnamed :0 (qui est un duplicat des indexes)"
   ]
  },
  {
   "cell_type": "code",
   "execution_count": 17,
   "id": "f9835686",
   "metadata": {},
   "outputs": [],
   "source": [
    "df_infos_rang_joueurs.drop(['Unnamed: 0', 'ioc', 'wikidata_id','dob'],axis=1,inplace=True)\n",
    "\n"
   ]
  },
  {
   "cell_type": "code",
   "execution_count": 18,
   "id": "0744bed6",
   "metadata": {},
   "outputs": [
    {
     "data": {
      "text/html": [
       "<div>\n",
       "<style scoped>\n",
       "    .dataframe tbody tr th:only-of-type {\n",
       "        vertical-align: middle;\n",
       "    }\n",
       "\n",
       "    .dataframe tbody tr th {\n",
       "        vertical-align: top;\n",
       "    }\n",
       "\n",
       "    .dataframe thead th {\n",
       "        text-align: right;\n",
       "    }\n",
       "</style>\n",
       "<table border=\"1\" class=\"dataframe\">\n",
       "  <thead>\n",
       "    <tr style=\"text-align: right;\">\n",
       "      <th></th>\n",
       "      <th>ranking_date</th>\n",
       "      <th>rank</th>\n",
       "      <th>player_id</th>\n",
       "      <th>points</th>\n",
       "      <th>name_first</th>\n",
       "      <th>name_last</th>\n",
       "      <th>hand</th>\n",
       "      <th>height</th>\n",
       "    </tr>\n",
       "  </thead>\n",
       "  <tbody>\n",
       "    <tr>\n",
       "      <th>0</th>\n",
       "      <td>19900101</td>\n",
       "      <td>1</td>\n",
       "      <td>100656</td>\n",
       "      <td>2913.0</td>\n",
       "      <td>Ivan</td>\n",
       "      <td>Lendl</td>\n",
       "      <td>R</td>\n",
       "      <td>188.0</td>\n",
       "    </tr>\n",
       "    <tr>\n",
       "      <th>1</th>\n",
       "      <td>19900101</td>\n",
       "      <td>2</td>\n",
       "      <td>101414</td>\n",
       "      <td>2279.0</td>\n",
       "      <td>Boris</td>\n",
       "      <td>Becker</td>\n",
       "      <td>R</td>\n",
       "      <td>190.0</td>\n",
       "    </tr>\n",
       "    <tr>\n",
       "      <th>2</th>\n",
       "      <td>19900101</td>\n",
       "      <td>3</td>\n",
       "      <td>101222</td>\n",
       "      <td>2111.0</td>\n",
       "      <td>Stefan</td>\n",
       "      <td>Edberg</td>\n",
       "      <td>R</td>\n",
       "      <td>188.0</td>\n",
       "    </tr>\n",
       "    <tr>\n",
       "      <th>3</th>\n",
       "      <td>19900101</td>\n",
       "      <td>4</td>\n",
       "      <td>100763</td>\n",
       "      <td>1398.0</td>\n",
       "      <td>Brad</td>\n",
       "      <td>Gilbert</td>\n",
       "      <td>R</td>\n",
       "      <td>185.0</td>\n",
       "    </tr>\n",
       "    <tr>\n",
       "      <th>4</th>\n",
       "      <td>19900101</td>\n",
       "      <td>5</td>\n",
       "      <td>100581</td>\n",
       "      <td>1354.0</td>\n",
       "      <td>John</td>\n",
       "      <td>McEnroe</td>\n",
       "      <td>L</td>\n",
       "      <td>180.0</td>\n",
       "    </tr>\n",
       "  </tbody>\n",
       "</table>\n",
       "</div>"
      ],
      "text/plain": [
       "   ranking_date  rank  player_id  points name_first name_last hand  height\n",
       "0      19900101     1     100656  2913.0       Ivan     Lendl    R   188.0\n",
       "1      19900101     2     101414  2279.0      Boris    Becker    R   190.0\n",
       "2      19900101     3     101222  2111.0     Stefan    Edberg    R   188.0\n",
       "3      19900101     4     100763  1398.0       Brad   Gilbert    R   185.0\n",
       "4      19900101     5     100581  1354.0       John   McEnroe    L   180.0"
      ]
     },
     "execution_count": 18,
     "metadata": {},
     "output_type": "execute_result"
    }
   ],
   "source": [
    "df_infos_rang_joueurs.head()"
   ]
  },
  {
   "cell_type": "code",
   "execution_count": 20,
   "id": "443bba3b",
   "metadata": {},
   "outputs": [],
   "source": [
    "df_infos_rang_joueurs.to_csv('./Data/Data_utiles/info_rank_after_treatment')"
   ]
  },
  {
   "cell_type": "code",
   "execution_count": null,
   "id": "266cdbd3",
   "metadata": {},
   "outputs": [],
   "source": []
  }
 ],
 "metadata": {
  "kernelspec": {
   "display_name": "Python 3 (ipykernel)",
   "language": "python",
   "name": "python3"
  },
  "language_info": {
   "codemirror_mode": {
    "name": "ipython",
    "version": 3
   },
   "file_extension": ".py",
   "mimetype": "text/x-python",
   "name": "python",
   "nbconvert_exporter": "python",
   "pygments_lexer": "ipython3",
   "version": "3.9.13"
  }
 },
 "nbformat": 4,
 "nbformat_minor": 5
}
